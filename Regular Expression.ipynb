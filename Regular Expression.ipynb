{
 "cells": [
  {
   "cell_type": "code",
   "execution_count": 66,
   "metadata": {},
   "outputs": [],
   "source": [
    "import re\n",
    "txt = \"The Clouds were sounding loud $in in 1987\""
   ]
  },
  {
   "cell_type": "markdown",
   "metadata": {},
   "source": [
    "META CHARACTER"
   ]
  },
  {
   "cell_type": "code",
   "execution_count": 21,
   "metadata": {},
   "outputs": [
    {
     "name": "stdout",
     "output_type": "stream",
     "text": [
      "['ing loud $in in 19n']\n"
     ]
    }
   ],
   "source": [
    "x = re.findall(\"in.*n\", txt)\n",
    "print(x) if (x) else print(\"NO\")"
   ]
  },
  {
   "cell_type": "markdown",
   "metadata": {},
   "source": [
    "SPECIAL SEQUENCE"
   ]
  },
  {
   "cell_type": "code",
   "execution_count": 22,
   "metadata": {},
   "outputs": [
    {
     "name": "stdout",
     "output_type": "stream",
     "text": [
      "['The']\n"
     ]
    }
   ],
   "source": [
    "x = re.findall(\"The\",txt)\n",
    "print(x) if (x) else print(\"NO\")"
   ]
  },
  {
   "cell_type": "code",
   "execution_count": 53,
   "metadata": {
    "scrolled": false
   },
   "outputs": [
    {
     "name": "stdout",
     "output_type": "stream",
     "text": [
      "['87', '87']\n"
     ]
    }
   ],
   "source": [
    "x = re.findall(\"87\\Z\",txt)\n",
    "print(x) if (x) else print(\"NO\")"
   ]
  },
  {
   "cell_type": "code",
   "execution_count": 7,
   "metadata": {},
   "outputs": [
    {
     "name": "stdout",
     "output_type": "stream",
     "text": [
      "['T']\n"
     ]
    }
   ],
   "source": [
    "x = re.findall(\"^T\",txt)\n",
    "print(x) if (x) else print(\"NO\")"
   ]
  },
  {
   "cell_type": "code",
   "execution_count": 15,
   "metadata": {},
   "outputs": [
    {
     "name": "stdout",
     "output_type": "stream",
     "text": [
      "['7']\n"
     ]
    }
   ],
   "source": [
    "x = re.findall(\"7$\",txt)\n",
    "print(x) if (x) else print(\"NO\")"
   ]
  },
  {
   "cell_type": "code",
   "execution_count": 55,
   "metadata": {},
   "outputs": [
    {
     "name": "stdout",
     "output_type": "stream",
     "text": [
      "['T', 'h', 'e', ' ', 'C', 'l', 'o', 'u', 'd', 's', ' ', 'w', 'e', 'r', 'e', ' ', 's', 'o', 'u', 'n', 'd', 'i', 'n', 'g', ' ', 'l', 'o', 'u', 'd', ' ', '$', 'i', 'n', ' ', 'i', 'n', ' ']\n"
     ]
    }
   ],
   "source": [
    "x = re.findall(\"\\D\",txt)\n",
    "print(x) if (x) else print(\"NO\")"
   ]
  },
  {
   "cell_type": "code",
   "execution_count": 59,
   "metadata": {},
   "outputs": [
    {
     "name": "stdout",
     "output_type": "stream",
     "text": [
      "['T', 'h', 'e', 'C', 'l', 'o', 'u', 'd', 's', 'w', 'e', 'r', 'e', '8', '7', 's', 'o', 'u', 'n', 'd', 'i', 'n', 'g', 'l', 'o', 'u', 'd', '$', 'i', 'n', 'i', 'n', '1', '9', '8', '7']\n"
     ]
    }
   ],
   "source": [
    "x = re.findall(\"\\S\",txt)\n",
    "print(x) if (x) else print(\"NO\")"
   ]
  },
  {
   "cell_type": "code",
   "execution_count": 67,
   "metadata": {},
   "outputs": [
    {
     "name": "stdout",
     "output_type": "stream",
     "text": [
      "['T', 'h', 'e', 'C', 'l', 'o', 'u', 'd', 's', 'w', 'e', 'r', 'e', 's', 'o', 'u', 'n', 'd', 'i', 'n', 'g', 'l', 'o', 'u', 'd', 'i', 'n', 'i', 'n', '1', '9', '8', '7']\n"
     ]
    }
   ],
   "source": [
    "x = re.findall(\"\\w\",txt)\n",
    "print(x) if (x) else print(\"NO\")"
   ]
  },
  {
   "cell_type": "code",
   "execution_count": 18,
   "metadata": {},
   "outputs": [
    {
     "name": "stdout",
     "output_type": "stream",
     "text": [
      "['1', '9', '8', '7']\n"
     ]
    }
   ],
   "source": [
    "x = re.findall(\"\\d\",txt)\n",
    "print(x) if (x) else print(\"NO\")"
   ]
  },
  {
   "cell_type": "markdown",
   "metadata": {},
   "source": [
    "SEARCH, FINDALL"
   ]
  },
  {
   "cell_type": "code",
   "execution_count": 69,
   "metadata": {},
   "outputs": [
    {
     "name": "stdout",
     "output_type": "stream",
     "text": [
      "['Clouds were sounding loud $in in 1987']\n"
     ]
    }
   ],
   "source": [
    "x = re.findall(\"C.*\",txt)\n",
    "print(x) if (x) else print(\"NO\")"
   ]
  },
  {
   "cell_type": "markdown",
   "metadata": {},
   "source": [
    "SET"
   ]
  },
  {
   "cell_type": "code",
   "execution_count": 94,
   "metadata": {},
   "outputs": [
    {
     "name": "stdout",
     "output_type": "stream",
     "text": [
      "['+91-9090909090', '+91-9898989898']\n"
     ]
    }
   ],
   "source": [
    "s = \"abcd +91-9090909090 efgh +45-7878787878 xyz +91-9898989898\"\n",
    "y = re.findall(\"\\+91-\\d*\",s)\n",
    "print(y)"
   ]
  },
  {
   "cell_type": "code",
   "execution_count": 95,
   "metadata": {},
   "outputs": [
    {
     "name": "stdout",
     "output_type": "stream",
     "text": [
      "<re.Match object; span=(37, 38), match='1'>\n"
     ]
    }
   ],
   "source": [
    "x = re.search(\"\\d\", txt)\n",
    "print(x)"
   ]
  },
  {
   "cell_type": "code",
   "execution_count": 99,
   "metadata": {},
   "outputs": [
    {
     "name": "stdout",
     "output_type": "stream",
     "text": [
      "<re.Match object; span=(4, 10), match='Clouds'>\n"
     ]
    }
   ],
   "source": [
    "x= re.search(r\"\\bC\\w+\",txt)\n",
    "print(x)"
   ]
  },
  {
   "cell_type": "code",
   "execution_count": 103,
   "metadata": {},
   "outputs": [
    {
     "name": "stdout",
     "output_type": "stream",
     "text": [
      "4\n"
     ]
    }
   ],
   "source": [
    "print(x.start())"
   ]
  },
  {
   "cell_type": "code",
   "execution_count": 102,
   "metadata": {},
   "outputs": [
    {
     "name": "stdout",
     "output_type": "stream",
     "text": [
      "10\n"
     ]
    }
   ],
   "source": [
    "print(x.end())"
   ]
  },
  {
   "cell_type": "code",
   "execution_count": 29,
   "metadata": {},
   "outputs": [
    {
     "name": "stdout",
     "output_type": "stream",
     "text": [
      "(4, 10)\n"
     ]
    }
   ],
   "source": [
    "print(x.span())"
   ]
  },
  {
   "cell_type": "code",
   "execution_count": 30,
   "metadata": {},
   "outputs": [
    {
     "name": "stdout",
     "output_type": "stream",
     "text": [
      "The Clouds were sounding loud $in in 1987\n"
     ]
    }
   ],
   "source": [
    "print(x.string)"
   ]
  },
  {
   "cell_type": "code",
   "execution_count": 104,
   "metadata": {},
   "outputs": [
    {
     "name": "stdout",
     "output_type": "stream",
     "text": [
      "Clouds\n"
     ]
    }
   ],
   "source": [
    "print(x.group())"
   ]
  },
  {
   "cell_type": "code",
   "execution_count": 32,
   "metadata": {},
   "outputs": [
    {
     "name": "stdout",
     "output_type": "stream",
     "text": [
      "<re.Match object; span=(4, 10), match='Clouds'>\n"
     ]
    }
   ],
   "source": [
    "x= re.search(r\"\\b\\w+uds\",txt)\n",
    "print(x)"
   ]
  },
  {
   "cell_type": "code",
   "execution_count": 106,
   "metadata": {},
   "outputs": [
    {
     "name": "stdout",
     "output_type": "stream",
     "text": [
      "<re.Match object; span=(0, 6), match='Python'>\n"
     ]
    }
   ],
   "source": [
    "b = \"Python is the best language\"\n",
    "x = re.search(\"Python\",b)\n",
    "print(x)"
   ]
  },
  {
   "cell_type": "code",
   "execution_count": 35,
   "metadata": {},
   "outputs": [
    {
     "name": "stdout",
     "output_type": "stream",
     "text": [
      "['falls']\n",
      "Yes, there is at least one match!\n"
     ]
    }
   ],
   "source": [
    "import re\n",
    "\n",
    "str = \"The rain in Spain falls mainly in the plain!\"\n",
    "\n",
    "#Check if the string contains \"a\" followed by exactly two \"l\" characters:\n",
    "\n",
    "x = re.findall(\"fal{2}s\", str)\n",
    "\n",
    "print(x)\n",
    "\n",
    "if (x):\n",
    "  print(\"Yes, there is at least one match!\")\n",
    "else:\n",
    "  print(\"No match\")\n"
   ]
  },
  {
   "cell_type": "code",
   "execution_count": 40,
   "metadata": {},
   "outputs": [
    {
     "name": "stdout",
     "output_type": "stream",
     "text": [
      "['ain', 'ain']\n"
     ]
    }
   ],
   "source": [
    "import re\n",
    "\n",
    "#Return a list containing every occurrence of \"ai\":\n",
    "\n",
    "str = \"The rain in Spain\"\n",
    "x = re.findall(\"ain\", str)\n",
    "print(x)\n"
   ]
  },
  {
   "cell_type": "code",
   "execution_count": 48,
   "metadata": {},
   "outputs": [
    {
     "name": "stdout",
     "output_type": "stream",
     "text": [
      "The first white-space character is located in position: 3\n"
     ]
    }
   ],
   "source": [
    "import re\n",
    "\n",
    "str = \"The rain in Spain\"\n",
    "x = re.search(\"\\s\", str)\n",
    "\n",
    "print(\"The first white-space character is located in position:\", x.start()) \n"
   ]
  },
  {
   "cell_type": "code",
   "execution_count": 158,
   "metadata": {},
   "outputs": [
    {
     "name": "stdout",
     "output_type": "stream",
     "text": [
      "['bharat.johri_cs17@gla.ac.in', 'gachgf.kbhgc_cs17@gla.ac.in']\n"
     ]
    }
   ],
   "source": [
    "k =\"this is a bharat.johri_cs17@gla.ac.in id best gachgf.kbhgc_cs17@gla.ac.in\"\n",
    "x = re.findall(r\"\\b\\S+\\.\\S+\\_\\S+\\d\\d@gla.ac.in\",k)\n",
    "print(x) "
   ]
  },
  {
   "cell_type": "code",
   "execution_count": null,
   "metadata": {},
   "outputs": [],
   "source": []
  }
 ],
 "metadata": {
  "kernelspec": {
   "display_name": "Python 3",
   "language": "python",
   "name": "python3"
  },
  "language_info": {
   "codemirror_mode": {
    "name": "ipython",
    "version": 3
   },
   "file_extension": ".py",
   "mimetype": "text/x-python",
   "name": "python",
   "nbconvert_exporter": "python",
   "pygments_lexer": "ipython3",
   "version": "3.7.3"
  }
 },
 "nbformat": 4,
 "nbformat_minor": 2
}
