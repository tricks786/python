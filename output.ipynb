{
 "cells": [
  {
   "cell_type": "code",
   "execution_count": 75,
   "metadata": {},
   "outputs": [
    {
     "name": "stdout",
     "output_type": "stream",
     "text": [
      "[2, 3, 4, 5]\n"
     ]
    }
   ],
   "source": [
    "l = [2,3,4,5]\n",
    "u = [9,8,7,6]\n",
    "j = list(filter(lambda x:x*x,l))\n",
    "new = list(map(lambda x,y: x +11+ y,l,u))\n",
    "new1 = list(map(lambda x,y: x + y,l,u[-1::-1]))\n",
    "fon1 = list(filter(lambda x: x % 2 == 0, l))\n",
    "fon2 = list(filter(lambda x: x % 2 != 0, u))\n",
    "result = list(map(lambda x,y: x + y , fon1, fon2))\n",
    "# print(result)\n",
    "# print(new1)\n",
    "# print(fon1)\n",
    "# print(new)\n",
    "print(j)"
   ]
  },
  {
   "cell_type": "code",
   "execution_count": 73,
   "metadata": {},
   "outputs": [
    {
     "name": "stdout",
     "output_type": "stream",
     "text": [
      "[[8, 25, 92], ['hello'], [[4, 2, 5], [5, 6]], [(2, 7)]]\n"
     ]
    }
   ],
   "source": [
    "l = [25,'hello',(2,7),[5,6],8,92,[4,2,5]]\n",
    "i = (filter(lambda x: isinstance(x,int),l))\n",
    "s = (filter(lambda x: isinstance(x,str),l))\n",
    "l2 = (filter(lambda x: isinstance(x,list),l))\n",
    "o = (filter(lambda x: type(x) != str and  type(x) != int and  type(x) != list,l))\n",
    "# print(o)\n",
    "k = []\n",
    "k.append(sorted(i))\n",
    "k.append(sorted(s))\n",
    "k.append(sorted(l2))\n",
    "k.append(sorted(o))\n",
    "print(k)\n"
   ]
  },
  {
   "cell_type": "code",
   "execution_count": 63,
   "metadata": {},
   "outputs": [
    {
     "name": "stdout",
     "output_type": "stream",
     "text": [
      "<class 'list'>\n"
     ]
    }
   ],
   "source": [
    "ss = []\n",
    "print(type(ss))"
   ]
  },
  {
   "cell_type": "code",
   "execution_count": 81,
   "metadata": {},
   "outputs": [
    {
     "name": "stdout",
     "output_type": "stream",
     "text": [
      " tarahb b\n"
     ]
    }
   ],
   "source": [
    "b = \"b bharat \"\n",
    "print(b[::-1])"
   ]
  },
  {
   "cell_type": "code",
   "execution_count": 118,
   "metadata": {},
   "outputs": [
    {
     "name": "stdout",
     "output_type": "stream",
     "text": [
      "2 <class 'int'>\n",
      "3 <class 'int'>\n"
     ]
    }
   ],
   "source": [
    "p = (3,1,5,2,4,8,9,2)\n",
    "k = p.count(2)\n",
    "f = p.index(2)\n",
    "\n",
    "print(k,type(k))\n",
    "print(f,type(f))"
   ]
  },
  {
   "cell_type": "code",
   "execution_count": 131,
   "metadata": {},
   "outputs": [
    {
     "name": "stdout",
     "output_type": "stream",
     "text": [
      "1\n",
      "[4, 9, 16, 25]\n"
     ]
    }
   ],
   "source": [
    "# j = (1,2,3,4,5)\n",
    "r = (v*v for v in j)\n",
    "print(next(r))\n",
    "print(list(r))"
   ]
  },
  {
   "cell_type": "code",
   "execution_count": 137,
   "metadata": {},
   "outputs": [
    {
     "name": "stdout",
     "output_type": "stream",
     "text": [
      "(2, 2, 6)\n"
     ]
    }
   ],
   "source": [
    "t = (2,4,6)\n",
    "l = list(t)\n",
    "l[1]=2\n",
    "print(tuple(l))"
   ]
  },
  {
   "cell_type": "code",
   "execution_count": 145,
   "metadata": {},
   "outputs": [
    {
     "name": "stdout",
     "output_type": "stream",
     "text": [
      "(5,6) (7,8,9)\n",
      "[(5, 6), (7, 8, 9)] <class 'list'>\n"
     ]
    }
   ],
   "source": [
    "l = list(map(eval,input().split()))\n",
    "print(l,type(l))"
   ]
  },
  {
   "cell_type": "code",
   "execution_count": 181,
   "metadata": {},
   "outputs": [
    {
     "name": "stdout",
     "output_type": "stream",
     "text": [
      "{1} <class 'set'>\n"
     ]
    }
   ],
   "source": [
    "m = set({1:2})\n",
    "print(m,type(m))"
   ]
  },
  {
   "cell_type": "code",
   "execution_count": 266,
   "metadata": {},
   "outputs": [
    {
     "name": "stdout",
     "output_type": "stream",
     "text": [
      "True\n"
     ]
    }
   ],
   "source": [
    "a = {1,2,3}\n",
    "b = {1,2,3,4,5}\n",
    "a.issubset(b)\n",
    "print(b.issuperset(a))\n"
   ]
  },
  {
   "cell_type": "code",
   "execution_count": 282,
   "metadata": {},
   "outputs": [
    {
     "name": "stdout",
     "output_type": "stream",
     "text": [
      "anu <class 'str'>\n",
      "{'bharat': 'gc', 'varun': 'kc', 'upen': 'anu'} <class 'dict'>\n"
     ]
    }
   ],
   "source": [
    "d = {'bharat':'gc','varun':'kc','upen':'anu'}\n",
    "v = d['upen']\n",
    "print(v,type(v))\n",
    "print(d,type(d))"
   ]
  },
  {
   "cell_type": "code",
   "execution_count": 317,
   "metadata": {},
   "outputs": [
    {
     "name": "stdout",
     "output_type": "stream",
     "text": [
      "dict_items([('bharat', 'gc'), ('varun', 'kc'), ('upen', 'anu')])\n",
      "dict_keys(['bharat', 'varun', 'upen'])\n",
      "dict_values(['gc', 'kc', 'anu'])\n",
      "gc\n",
      "gc\n",
      "('upen', 'anu')\n",
      "gc <class 'str'>\n"
     ]
    }
   ],
   "source": [
    "d = {'bharat':'gc','varun':'kc','upen':'anu'}\n",
    "print(d.items())\n",
    "print(d.keys())\n",
    "print(d.values())\n",
    "print(d[\"bharat\"])\n",
    "print(d.get(\"bharat\"))\n",
    "print(d.popitem())\n"
   ]
  },
  {
   "cell_type": "code",
   "execution_count": 320,
   "metadata": {},
   "outputs": [
    {
     "name": "stdout",
     "output_type": "stream",
     "text": [
      "{'a': 'b', 'c': 'd'}\n"
     ]
    }
   ],
   "source": [
    "h = ['ab','cd']\n",
    "j = dict(h)\n",
    "print(j)"
   ]
  },
  {
   "cell_type": "code",
   "execution_count": 325,
   "metadata": {},
   "outputs": [
    {
     "name": "stdout",
     "output_type": "stream",
     "text": [
      "{'bharat': 'gc', 'dds': 'dfsd', 'Bharat': 'kc'}\n"
     ]
    }
   ],
   "source": [
    "d = {\"bharat\":\"jd\",\"dds\":\"dfsd\"}\n",
    "k = d.copy()\n",
    "k[\"bharat\"] = \"gc\"\n",
    "k[\"Bharat\"] = \"kc\"\n",
    "print(k)"
   ]
  },
  {
   "cell_type": "code",
   "execution_count": 329,
   "metadata": {},
   "outputs": [
    {
     "name": "stdout",
     "output_type": "stream",
     "text": [
      "7\n"
     ]
    }
   ],
   "source": [
    "p = {1:123,2:456,1:7}\n",
    "print(p.get(1,2))"
   ]
  },
  {
   "cell_type": "code",
   "execution_count": 331,
   "metadata": {},
   "outputs": [],
   "source": [
    "import math"
   ]
  },
  {
   "cell_type": "code",
   "execution_count": 413,
   "metadata": {},
   "outputs": [
    {
     "name": "stdout",
     "output_type": "stream",
     "text": [
      "0.6989700043360189\n"
     ]
    }
   ],
   "source": [
    "x = 12\n",
    "print(math.log10(5))"
   ]
  },
  {
   "cell_type": "code",
   "execution_count": 414,
   "metadata": {},
   "outputs": [
    {
     "name": "stdout",
     "output_type": "stream",
     "text": [
      "-0.5365729180004349\n"
     ]
    }
   ],
   "source": [
    "print(math.sin(x))"
   ]
  },
  {
   "cell_type": "code",
   "execution_count": 415,
   "metadata": {},
   "outputs": [
    {
     "name": "stdout",
     "output_type": "stream",
     "text": [
      "0.8438539587324921\n"
     ]
    }
   ],
   "source": [
    "print(math.cos(x))"
   ]
  },
  {
   "cell_type": "code",
   "execution_count": 416,
   "metadata": {},
   "outputs": [
    {
     "name": "stdout",
     "output_type": "stream",
     "text": [
      "3\n"
     ]
    }
   ],
   "source": [
    "print(math.ceil(2.1))"
   ]
  },
  {
   "cell_type": "code",
   "execution_count": 417,
   "metadata": {},
   "outputs": [
    {
     "name": "stdout",
     "output_type": "stream",
     "text": [
      "2\n"
     ]
    }
   ],
   "source": [
    "print(math.floor(2.9))"
   ]
  },
  {
   "cell_type": "code",
   "execution_count": 418,
   "metadata": {},
   "outputs": [
    {
     "name": "stdout",
     "output_type": "stream",
     "text": [
      "-2.0\n"
     ]
    }
   ],
   "source": [
    "print(math.copysign(2,-5))"
   ]
  },
  {
   "cell_type": "code",
   "execution_count": 419,
   "metadata": {},
   "outputs": [
    {
     "name": "stdout",
     "output_type": "stream",
     "text": [
      "0.55\n"
     ]
    }
   ],
   "source": [
    "print(math.fabs(-0.55))"
   ]
  },
  {
   "cell_type": "code",
   "execution_count": 420,
   "metadata": {},
   "outputs": [
    {
     "name": "stdout",
     "output_type": "stream",
     "text": [
      "120\n"
     ]
    }
   ],
   "source": [
    "print(math.factorial(5.0))"
   ]
  },
  {
   "cell_type": "code",
   "execution_count": 421,
   "metadata": {},
   "outputs": [
    {
     "name": "stdout",
     "output_type": "stream",
     "text": [
      "1.0\n"
     ]
    }
   ],
   "source": [
    "print(math.fmod(10,3))"
   ]
  },
  {
   "cell_type": "code",
   "execution_count": 422,
   "metadata": {},
   "outputs": [
    {
     "name": "stdout",
     "output_type": "stream",
     "text": [
      "(-0.625, 4)\n"
     ]
    }
   ],
   "source": [
    "print(math.frexp(-10.0))"
   ]
  },
  {
   "cell_type": "code",
   "execution_count": 423,
   "metadata": {},
   "outputs": [
    {
     "name": "stdout",
     "output_type": "stream",
     "text": [
      "10.0\n"
     ]
    }
   ],
   "source": [
    "l = [1,2,3,4]\n",
    "print(math.fsum(l))"
   ]
  },
  {
   "cell_type": "code",
   "execution_count": 424,
   "metadata": {},
   "outputs": [
    {
     "name": "stdout",
     "output_type": "stream",
     "text": [
      "16.0\n"
     ]
    }
   ],
   "source": [
    "c = math.ldexp(2,3)\n",
    "print(c)"
   ]
  },
  {
   "cell_type": "code",
   "execution_count": 433,
   "metadata": {},
   "outputs": [
    {
     "name": "stdout",
     "output_type": "stream",
     "text": [
      "-125.0\n"
     ]
    }
   ],
   "source": [
    "print(math.pow(-5,3))"
   ]
  },
  {
   "cell_type": "code",
   "execution_count": 459,
   "metadata": {},
   "outputs": [
    {
     "name": "stdout",
     "output_type": "stream",
     "text": [
      "False\n"
     ]
    }
   ],
   "source": [
    "print(math.isnan(0.0))"
   ]
  },
  {
   "cell_type": "code",
   "execution_count": 460,
   "metadata": {},
   "outputs": [
    {
     "name": "stdout",
     "output_type": "stream",
     "text": [
      "5\n"
     ]
    }
   ],
   "source": [
    "print(int(math.sqrt(25)))"
   ]
  },
  {
   "cell_type": "code",
   "execution_count": 458,
   "metadata": {},
   "outputs": [
    {
     "name": "stdout",
     "output_type": "stream",
     "text": [
      "2.718281828459045\n"
     ]
    }
   ],
   "source": [
    "print(math.e)"
   ]
  },
  {
   "cell_type": "code",
   "execution_count": null,
   "metadata": {},
   "outputs": [],
   "source": []
  },
  {
   "cell_type": "code",
   "execution_count": null,
   "metadata": {},
   "outputs": [],
   "source": [
    "\n"
   ]
  }
 ],
 "metadata": {
  "kernelspec": {
   "display_name": "Python 3",
   "language": "python",
   "name": "python3"
  },
  "language_info": {
   "codemirror_mode": {
    "name": "ipython",
    "version": 3
   },
   "file_extension": ".py",
   "mimetype": "text/x-python",
   "name": "python",
   "nbconvert_exporter": "python",
   "pygments_lexer": "ipython3",
   "version": "3.7.3"
  }
 },
 "nbformat": 4,
 "nbformat_minor": 2
}
