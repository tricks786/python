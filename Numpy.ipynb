{
 "cells": [
  {
   "cell_type": "code",
   "execution_count": 17,
   "metadata": {},
   "outputs": [],
   "source": [
    "import numpy as np"
   ]
  },
  {
   "cell_type": "code",
   "execution_count": 18,
   "metadata": {},
   "outputs": [],
   "source": [
    "a = np.array([[1,2,3],[4,5,6],[7,8,9]])"
   ]
  },
  {
   "cell_type": "code",
   "execution_count": 19,
   "metadata": {},
   "outputs": [
    {
     "data": {
      "text/plain": [
       "array([[1, 2, 3],\n",
       "       [4, 5, 6],\n",
       "       [7, 8, 9]])"
      ]
     },
     "execution_count": 19,
     "metadata": {},
     "output_type": "execute_result"
    }
   ],
   "source": [
    "a"
   ]
  },
  {
   "cell_type": "code",
   "execution_count": 20,
   "metadata": {},
   "outputs": [
    {
     "name": "stdout",
     "output_type": "stream",
     "text": [
      "[3.         3.11111111 3.22222222 3.33333333 3.44444444 3.55555556\n",
      " 3.66666667 3.77777778 3.88888889 4.        ]\n"
     ]
    }
   ],
   "source": [
    "print(np.linspace(3,4,10))"
   ]
  },
  {
   "cell_type": "code",
   "execution_count": 21,
   "metadata": {},
   "outputs": [
    {
     "name": "stdout",
     "output_type": "stream",
     "text": [
      "[[0 0 0 0]\n",
      " [0 0 0 0]\n",
      " [0 0 0 0]]\n"
     ]
    }
   ],
   "source": [
    "print(np.zeros((3,4),dtype = int))"
   ]
  },
  {
   "cell_type": "code",
   "execution_count": 22,
   "metadata": {},
   "outputs": [
    {
     "name": "stdout",
     "output_type": "stream",
     "text": [
      "[[0.76824586 0.2895438 ]\n",
      " [0.09041187 0.34020575]]\n"
     ]
    }
   ],
   "source": [
    "print(np.random.random((2,2)))"
   ]
  },
  {
   "cell_type": "code",
   "execution_count": 27,
   "metadata": {},
   "outputs": [
    {
     "data": {
      "text/plain": [
       "array([[0.00000000e+000, 0.00000000e+000, 0.00000000e+000],\n",
       "       [0.00000000e+000, 0.00000000e+000, 6.83786854e-321],\n",
       "       [1.13102376e-311, 1.13102376e-311, 1.13214079e-311]])"
      ]
     },
     "execution_count": 27,
     "metadata": {},
     "output_type": "execute_result"
    }
   ],
   "source": [
    "np.empty((3,3))"
   ]
  },
  {
   "cell_type": "code",
   "execution_count": 30,
   "metadata": {},
   "outputs": [
    {
     "name": "stdout",
     "output_type": "stream",
     "text": [
      "[[9 9 9]\n",
      " [9 9 9]\n",
      " [9 9 9]]\n"
     ]
    }
   ],
   "source": [
    "print(np.full((3,3),9))"
   ]
  },
  {
   "cell_type": "code",
   "execution_count": 138,
   "metadata": {},
   "outputs": [
    {
     "name": "stdout",
     "output_type": "stream",
     "text": [
      "[10 15 20 25 30 35 40 45]\n"
     ]
    }
   ],
   "source": [
    "print(np.arange(10,50,5))"
   ]
  },
  {
   "cell_type": "code",
   "execution_count": 139,
   "metadata": {},
   "outputs": [
    {
     "name": "stdout",
     "output_type": "stream",
     "text": [
      "[10 20 30 40 50]\n"
     ]
    }
   ],
   "source": [
    "print(np.linspace(10,50,5,dtype=int))"
   ]
  },
  {
   "cell_type": "code",
   "execution_count": 75,
   "metadata": {},
   "outputs": [
    {
     "name": "stdout",
     "output_type": "stream",
     "text": [
      "2\n",
      "(3, 2)\n"
     ]
    }
   ],
   "source": [
    "j = np.array([[1,2],[3,4],[5,6]])\n",
    "print(j.ndim)\n",
    "print(j.shape)"
   ]
  },
  {
   "cell_type": "code",
   "execution_count": 93,
   "metadata": {},
   "outputs": [
    {
     "name": "stdout",
     "output_type": "stream",
     "text": [
      "6\n"
     ]
    }
   ],
   "source": [
    "print(j.size)"
   ]
  },
  {
   "cell_type": "code",
   "execution_count": 94,
   "metadata": {},
   "outputs": [
    {
     "name": "stdout",
     "output_type": "stream",
     "text": [
      "4\n"
     ]
    }
   ],
   "source": [
    "print(j.itemsize)"
   ]
  },
  {
   "cell_type": "code",
   "execution_count": 96,
   "metadata": {},
   "outputs": [
    {
     "name": "stdout",
     "output_type": "stream",
     "text": [
      "24\n"
     ]
    }
   ],
   "source": [
    "print(j.nbytes)  # nbytes = size * itemsize"
   ]
  },
  {
   "cell_type": "code",
   "execution_count": 97,
   "metadata": {},
   "outputs": [
    {
     "name": "stdout",
     "output_type": "stream",
     "text": [
      "3\n"
     ]
    }
   ],
   "source": [
    "print(len(a))"
   ]
  },
  {
   "cell_type": "code",
   "execution_count": 140,
   "metadata": {},
   "outputs": [
    {
     "name": "stdout",
     "output_type": "stream",
     "text": [
      "[[1 1 1 1]\n",
      " [1 1 1 1]\n",
      " [1 1 1 1]]\n"
     ]
    }
   ],
   "source": [
    "x = np.ones((3,4),int)\n",
    "print(x)"
   ]
  },
  {
   "cell_type": "code",
   "execution_count": 100,
   "metadata": {},
   "outputs": [
    {
     "name": "stdout",
     "output_type": "stream",
     "text": [
      "(3, 4)\n"
     ]
    }
   ],
   "source": [
    "print(x.shape)"
   ]
  },
  {
   "cell_type": "code",
   "execution_count": 101,
   "metadata": {},
   "outputs": [
    {
     "name": "stdout",
     "output_type": "stream",
     "text": [
      "[[0.09050262 0.19955983 0.73074003 0.69509934]\n",
      " [0.48299066 0.36192311 0.68094966 0.62377596]\n",
      " [0.39366758 0.86361704 0.06486544 0.73315885]]\n"
     ]
    }
   ],
   "source": [
    " y = np.random.random((3,4))\n",
    "print(y)"
   ]
  },
  {
   "cell_type": "code",
   "execution_count": 102,
   "metadata": {},
   "outputs": [
    {
     "name": "stdout",
     "output_type": "stream",
     "text": [
      "(3, 4)\n"
     ]
    }
   ],
   "source": [
    "print(y.shape)"
   ]
  },
  {
   "cell_type": "code",
   "execution_count": 103,
   "metadata": {},
   "outputs": [
    {
     "data": {
      "text/plain": [
       "array([[1.09050262, 1.19955983, 1.73074003, 1.69509934],\n",
       "       [1.48299066, 1.36192311, 1.68094966, 1.62377596],\n",
       "       [1.39366758, 1.86361704, 1.06486544, 1.73315885]])"
      ]
     },
     "execution_count": 103,
     "metadata": {},
     "output_type": "execute_result"
    }
   ],
   "source": [
    "z = x + y\n",
    "z"
   ]
  },
  {
   "cell_type": "markdown",
   "metadata": {},
   "source": [
    "Que: Make a numpy array of 3x2 containing random integer in the range 1 to 20"
   ]
  },
  {
   "cell_type": "code",
   "execution_count": 112,
   "metadata": {},
   "outputs": [
    {
     "name": "stdout",
     "output_type": "stream",
     "text": [
      "[[ 1  4]\n",
      " [ 8 12]\n",
      " [16 20]]\n"
     ]
    }
   ],
   "source": [
    "# import random\n",
    "# l = []\n",
    "# for i in range(20):\n",
    "#     l.append(random.randint(1,21))\n",
    "# print(l)\n",
    "y=np.linspace(1,20,6,dtype = int)\n",
    "# y=y.astype(int)  \n",
    "# print(np.linspace(1,20,6,dtype = int))\n",
    "print(y.reshape(3,2))"
   ]
  },
  {
   "cell_type": "markdown",
   "metadata": {},
   "source": [
    "Que: Reverse the numpy array ?"
   ]
  },
  {
   "cell_type": "code",
   "execution_count": 114,
   "metadata": {},
   "outputs": [
    {
     "name": "stdout",
     "output_type": "stream",
     "text": [
      "1 2 3 4 5\n",
      "[5 4 3 2 1]\n"
     ]
    }
   ],
   "source": [
    "a = list(map(int, input().split( )))\n",
    "print(np.array(a)[::-1])"
   ]
  },
  {
   "cell_type": "code",
   "execution_count": 129,
   "metadata": {},
   "outputs": [
    {
     "name": "stdout",
     "output_type": "stream",
     "text": [
      "[[1 2 3]\n",
      " [4 5 6]]\n",
      "[1 2 3 4 5 6]\n"
     ]
    }
   ],
   "source": [
    "a = np.array([1,2,3,4,5,6])\n",
    "print(a.reshape(2,3))\n",
    "print(a)"
   ]
  },
  {
   "cell_type": "code",
   "execution_count": 133,
   "metadata": {},
   "outputs": [
    {
     "name": "stdout",
     "output_type": "stream",
     "text": [
      "[11 10  9  8  7  6]\n"
     ]
    }
   ],
   "source": [
    "arr = np.arange(11,5,-1)\n",
    "print(arr)"
   ]
  },
  {
   "cell_type": "code",
   "execution_count": 136,
   "metadata": {},
   "outputs": [
    {
     "name": "stdout",
     "output_type": "stream",
     "text": [
      "[[7.74860419e-304 7.74860419e-304 7.74860419e-304 7.74860419e-304\n",
      "  7.74860419e-304 7.74860419e-304 7.74860419e-304 7.74860419e-304\n",
      "  7.74860419e-304 7.74860419e-304]\n",
      " [7.74860419e-304 7.74860419e-304 7.74860419e-304 7.74860419e-304\n",
      "  7.74860419e-304 7.74860419e-304 7.74860419e-304 7.74860419e-304\n",
      "  7.74860419e-304 7.74860419e-304]\n",
      " [7.74860419e-304 7.74860419e-304 7.74860419e-304 7.74860419e-304\n",
      "  7.74860419e-304 7.74860419e-304 7.74860419e-304 7.74860419e-304\n",
      "  7.74860419e-304 7.74860419e-304]\n",
      " [7.74860419e-304 7.74860419e-304 7.74860419e-304 7.74860419e-304\n",
      "  7.74860419e-304 7.74860419e-304 7.74860419e-304 7.74860419e-304\n",
      "  7.74860419e-304 7.74860419e-304]\n",
      " [7.74860419e-304 7.74860419e-304 7.74860419e-304 7.74860419e-304\n",
      "  7.74860419e-304 7.74860419e-304 7.74860419e-304 7.74860419e-304\n",
      "  7.74860419e-304 7.74860419e-304]\n",
      " [7.74860419e-304 7.74860419e-304 7.74860419e-304 7.74860419e-304\n",
      "  7.74860419e-304 7.74860419e-304 7.74860419e-304 7.74860419e-304\n",
      "  7.74860419e-304 7.74860419e-304]\n",
      " [7.74860419e-304 7.74860419e-304 7.74860419e-304 7.74860419e-304\n",
      "  7.74860419e-304 7.74860419e-304 7.74860419e-304 7.74860419e-304\n",
      "  7.74860419e-304 7.74860419e-304]\n",
      " [7.74860419e-304 7.74860419e-304 7.74860419e-304 7.74860419e-304\n",
      "  7.74860419e-304 7.74860419e-304 7.74860419e-304 7.74860419e-304\n",
      "  7.74860419e-304 7.74860419e-304]\n",
      " [7.74860419e-304 7.74860419e-304 7.74860419e-304 7.74860419e-304\n",
      "  7.74860419e-304 7.74860419e-304 7.74860419e-304 7.74860419e-304\n",
      "  7.74860419e-304 7.74860419e-304]\n",
      " [7.74860419e-304 7.74860419e-304 7.74860419e-304 7.74860419e-304\n",
      "  7.74860419e-304 7.74860419e-304 7.74860419e-304 7.74860419e-304\n",
      "  7.74860419e-304 7.74860419e-304]]\n"
     ]
    }
   ],
   "source": [
    "print(np.empty((10,10)))"
   ]
  },
  {
   "cell_type": "code",
   "execution_count": 137,
   "metadata": {},
   "outputs": [],
   "source": [
    "import math"
   ]
  },
  {
   "cell_type": "code",
   "execution_count": 145,
   "metadata": {},
   "outputs": [
    {
     "ename": "TypeError",
     "evalue": "unhashable type: 'list'",
     "output_type": "error",
     "traceback": [
      "\u001b[1;31m---------------------------------------------------------------------------\u001b[0m",
      "\u001b[1;31mTypeError\u001b[0m                                 Traceback (most recent call last)",
      "\u001b[1;32m<ipython-input-145-48f712b6febd>\u001b[0m in \u001b[0;36m<module>\u001b[1;34m\u001b[0m\n\u001b[1;32m----> 1\u001b[1;33m \u001b[0md\u001b[0m \u001b[1;33m=\u001b[0m \u001b[1;33m{\u001b[0m\u001b[1;33m[\u001b[0m\u001b[1;36m1\u001b[0m\u001b[1;33m,\u001b[0m\u001b[1;36m2\u001b[0m\u001b[1;33m]\u001b[0m\u001b[1;33m:\u001b[0m\u001b[1;36m2\u001b[0m\u001b[1;33m}\u001b[0m\u001b[1;33m\u001b[0m\u001b[1;33m\u001b[0m\u001b[0m\n\u001b[0m\u001b[0;32m      2\u001b[0m \u001b[0md\u001b[0m\u001b[1;33m\u001b[0m\u001b[1;33m\u001b[0m\u001b[0m\n",
      "\u001b[1;31mTypeError\u001b[0m: unhashable type: 'list'"
     ]
    }
   ],
   "source": [
    "d = {[1,2]:2}\n",
    "d"
   ]
  },
  {
   "cell_type": "code",
   "execution_count": null,
   "metadata": {},
   "outputs": [],
   "source": []
  }
 ],
 "metadata": {
  "kernelspec": {
   "display_name": "Python 3",
   "language": "python",
   "name": "python3"
  },
  "language_info": {
   "codemirror_mode": {
    "name": "ipython",
    "version": 3
   },
   "file_extension": ".py",
   "mimetype": "text/x-python",
   "name": "python",
   "nbconvert_exporter": "python",
   "pygments_lexer": "ipython3",
   "version": "3.7.3"
  }
 },
 "nbformat": 4,
 "nbformat_minor": 2
}
